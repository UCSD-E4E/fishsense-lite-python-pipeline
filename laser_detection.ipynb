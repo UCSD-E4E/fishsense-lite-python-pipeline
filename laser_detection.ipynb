{
 "cells": [
  {
   "cell_type": "code",
   "execution_count": 6,
   "metadata": {},
   "outputs": [],
   "source": [
    "import torch \n",
    "import torchvision\n",
    "import torch.nn as nn\n",
    "import torch.nn.functional as F\n",
    "import torch.optim as optim\n",
    "from torch.utils.data import Dataset, DataLoader\n",
    "\n",
    "from pathlib import Path\n",
    "import csv\n",
    "import numpy as np\n",
    "import cv2\n",
    "\n",
    "from edge_detection import edgeDetection\n",
    "from interest_point_detection import display_interest_points_matrix"
   ]
  },
  {
   "cell_type": "code",
   "execution_count": 7,
   "metadata": {},
   "outputs": [],
   "source": [
    "# Prepare data \n",
    "\n",
    "data_path = Path(\"./data/labels\")\n",
    "csv_list = list(data_path.glob(\"*.csv\"))\n",
    "file_map = dict()\n",
    "i = 0\n",
    "\n",
    "for csv_file in csv_list:\n",
    "\n",
    "    \n",
    "    \n",
    "    with open(csv_file, newline='') as csvfile:\n",
    "\n",
    "        reader = csv.reader(csvfile, delimiter=',')\n",
    "\n",
    "        header = next(reader)\n",
    "\n",
    "        for row in reader:\n",
    "        \n",
    "            if len(row) > 0:\n",
    "                file_map[i] = dict()\n",
    "                file_map[i][\"name\"] = row[0]\n",
    "                \n",
    "                for j in range(1, 3):\n",
    "                    file_map[i][header[j]] = row[j]\n",
    "\n",
    "            i+=1"
   ]
  },
  {
   "cell_type": "code",
   "execution_count": 8,
   "metadata": {},
   "outputs": [
    {
     "ename": "AttributeError",
     "evalue": "'NoneType' object has no attribute 'suffix'",
     "output_type": "error",
     "traceback": [
      "\u001b[1;31m---------------------------------------------------------------------------\u001b[0m",
      "\u001b[1;31mAttributeError\u001b[0m                            Traceback (most recent call last)",
      "Cell \u001b[1;32mIn[8], line 3\u001b[0m\n\u001b[0;32m      1\u001b[0m img \u001b[38;5;241m=\u001b[39m cv2\u001b[38;5;241m.\u001b[39mimread(file_map[\u001b[38;5;241m10\u001b[39m][\u001b[38;5;124m\"\u001b[39m\u001b[38;5;124mname\u001b[39m\u001b[38;5;124m\"\u001b[39m])\n\u001b[1;32m----> 3\u001b[0m _, img_filtered \u001b[38;5;241m=\u001b[39m \u001b[43medgeDetection\u001b[49m\u001b[43m(\u001b[49m\u001b[43mimg\u001b[49m\u001b[43m,\u001b[49m\u001b[43m \u001b[49m\u001b[38;5;241;43m75\u001b[39;49m\u001b[43m,\u001b[49m\u001b[43m \u001b[49m\u001b[38;5;241;43m0\u001b[39;49m\u001b[43m,\u001b[49m\u001b[43m \u001b[49m\u001b[38;5;28;43;01mNone\u001b[39;49;00m\u001b[43m,\u001b[49m\u001b[43m \u001b[49m\u001b[43mchannel\u001b[49m\u001b[38;5;241;43m=\u001b[39;49m\u001b[38;5;124;43m'\u001b[39;49m\u001b[38;5;124;43mr\u001b[39;49m\u001b[38;5;124;43m'\u001b[39;49m\u001b[43m)\u001b[49m\n\u001b[0;32m      4\u001b[0m img_rgb \u001b[38;5;241m=\u001b[39m cv2\u001b[38;5;241m.\u001b[39mcvtColor(img_filtered, cv2\u001b[38;5;241m.\u001b[39mCOLOR_GRAY2RGB)\n\u001b[0;32m      6\u001b[0m cv2\u001b[38;5;241m.\u001b[39mimshow(\u001b[38;5;124m\"\u001b[39m\u001b[38;5;124myuh\u001b[39m\u001b[38;5;124m\"\u001b[39m, img_filtered)\n",
      "File \u001b[1;32m~\\Documents\\E4E\\Fishsense\\fishsense-lite-python-pipeline\\edge_detection.py:14\u001b[0m, in \u001b[0;36medgeDetection\u001b[1;34m(img, rad, sigma, roi, channel)\u001b[0m\n\u001b[0;32m     13\u001b[0m \u001b[38;5;28;01mdef\u001b[39;00m \u001b[38;5;21medgeDetection\u001b[39m(img, rad, sigma, roi, channel\u001b[38;5;241m=\u001b[39m\u001b[38;5;28;01mNone\u001b[39;00m):\n\u001b[1;32m---> 14\u001b[0m     \u001b[38;5;28;01mif\u001b[39;00m \u001b[38;5;28mtype\u001b[39m(img) \u001b[38;5;241m!=\u001b[39m np\u001b[38;5;241m.\u001b[39mndarray \u001b[38;5;129;01mand\u001b[39;00m \u001b[43mimg\u001b[49m\u001b[38;5;241;43m.\u001b[39;49m\u001b[43msuffix\u001b[49m \u001b[38;5;241m!=\u001b[39m \u001b[38;5;124m\"\u001b[39m\u001b[38;5;124m.ORF\u001b[39m\u001b[38;5;124m\"\u001b[39m:\n\u001b[0;32m     15\u001b[0m         img \u001b[38;5;241m=\u001b[39m cv2\u001b[38;5;241m.\u001b[39mimread(img\u001b[38;5;241m.\u001b[39mas_posix())\u001b[38;5;241m.\u001b[39mastype(\u001b[38;5;124m'\u001b[39m\u001b[38;5;124mfloat16\u001b[39m\u001b[38;5;124m'\u001b[39m)\n\u001b[0;32m     16\u001b[0m     \u001b[38;5;66;03m# if img.dtype != np.float16:\u001b[39;00m\n\u001b[0;32m     17\u001b[0m     \u001b[38;5;66;03m#     img = img.astype('float16')\u001b[39;00m\n",
      "\u001b[1;31mAttributeError\u001b[0m: 'NoneType' object has no attribute 'suffix'"
     ]
    }
   ],
   "source": [
    "\n",
    "img = cv2.imread(file_map[10][\"name\"])\n",
    "\n",
    "_, img_filtered = edgeDetection(img, 75, 0, None, channel='r')\n",
    "img_rgb = cv2.cvtColor(img_filtered, cv2.COLOR_GRAY2RGB)\n",
    "                \n",
    "cv2.imshow(\"yuh\", img_filtered)\n",
    "cv2.waitKey(0)\n",
    "cv2.destroyAllWindows()\n"
   ]
  },
  {
   "cell_type": "code",
   "execution_count": 11,
   "metadata": {},
   "outputs": [],
   "source": [
    "# Check to make sure everything is working with the data loading\n",
    "for i in file_map:\n",
    "    \n",
    "    print(f\"{i}: {file_map[i]['name']} has laser at coordinates ({file_map[i]['laser.x']}, {file_map[i]['laser.y']})\")"
   ]
  },
  {
   "cell_type": "code",
   "execution_count": 30,
   "metadata": {},
   "outputs": [],
   "source": [
    "# Create data matrix. Each row corresponds to one data point\n",
    "\n",
    "training_count = int(.85*len(file_map))\n",
    "testing_count = len(file_map) - training_count\n",
    "\n",
    "X_train = np.empty((350, 12000000))\n",
    "for i, file in enumerate(file_map):\n",
    "    pass"
   ]
  },
  {
   "cell_type": "code",
   "execution_count": 41,
   "metadata": {},
   "outputs": [
    {
     "name": "stdout",
     "output_type": "stream",
     "text": [
      "[PosixPath('data/Green_Laser_Test_07_23.csv'), PosixPath('data/fred-nathanhouse-raw.csv'), PosixPath('data/label_laser_calibration.csv'), PosixPath('data/FSL-01D_Box_07_23.csv'), PosixPath('data/green_laser_07_25_23.csv'), PosixPath('data/Red_Laser_Test_07_23.csv'), PosixPath('data/FSL-01D_Fred_07_23.csv'), PosixPath('data/laser_calibration_raw_07_23.csv'), PosixPath('data/label_laser.csv'), PosixPath('data/laser_calibration_7_13_23.csv'), PosixPath('data/red_laser_07_25_23.csv'), PosixPath('data/george_measurements_07_25_23.csv')]\n"
     ]
    }
   ],
   "source": []
  },
  {
   "cell_type": "code",
   "execution_count": null,
   "metadata": {},
   "outputs": [],
   "source": []
  },
  {
   "cell_type": "code",
   "execution_count": null,
   "metadata": {},
   "outputs": [],
   "source": []
  },
  {
   "cell_type": "code",
   "execution_count": null,
   "metadata": {},
   "outputs": [],
   "source": []
  }
 ],
 "metadata": {
  "kernelspec": {
   "display_name": "Python 3 (ipykernel)",
   "language": "python",
   "name": "python3"
  },
  "language_info": {
   "codemirror_mode": {
    "name": "ipython",
    "version": 3
   },
   "file_extension": ".py",
   "mimetype": "text/x-python",
   "name": "python",
   "nbconvert_exporter": "python",
   "pygments_lexer": "ipython3",
   "version": "3.10.10"
  }
 },
 "nbformat": 4,
 "nbformat_minor": 4
}
