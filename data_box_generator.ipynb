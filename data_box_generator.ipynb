{
 "cells": [
  {
   "cell_type": "code",
   "execution_count": 1,
   "id": "2c41230b-f27b-4799-91a3-0adcdd90bf51",
   "metadata": {},
   "outputs": [],
   "source": [
    "import torch \n",
    "import torchvision\n",
    "import torch.nn as nn\n",
    "import torch.nn.functional as F\n",
    "import torch.optim as optim\n",
    "from torch.utils.data import Dataset, DataLoader\n",
    "\n",
    "from pathlib import Path\n",
    "import csv\n",
    "import numpy as np\n",
    "import cv2\n",
    "from tqdm import tqdm\n",
    "\n",
    "from edge_detection import edgeDetection\n",
    "from interest_point_detection import display_interest_points_matrix\n",
    "from detect_laser import *\n",
    "from torchinfo import summary\n",
    "\n",
    "import matplotlib.pyplot as plt"
   ]
  },
  {
   "cell_type": "code",
   "execution_count": 2,
   "id": "deab060d-1b6a-441e-a2bc-46928135cacb",
   "metadata": {},
   "outputs": [],
   "source": [
    "# Prepare data \n",
    "\n",
    "data_path = Path(\"./data\")\n",
    "csv_list = list(data_path.glob(\"*.csv\"))\n",
    "file_map = dict()\n",
    "test_map = dict()\n",
    "i = 0\n",
    "l = 0\n",
    "for csv_file in csv_list:   \n",
    "    with open(csv_file, newline='') as csvfile:\n",
    "\n",
    "        reader = csv.reader(csvfile, delimiter=',')\n",
    "\n",
    "        header = next(reader)\n",
    "\n",
    "        # First 2 of every file will be for testing\n",
    "        for k in range(2):\n",
    "            row = next(reader)\n",
    "            if len(row) > 0:\n",
    "                test_map[l] = dict()\n",
    "                test_map[l][\"name\"] = row[0]\n",
    "                \n",
    "                for j in range(1, 3):\n",
    "                    test_map[l][header[j]] = row[j]\n",
    "\n",
    "                l+=1\n",
    "        \n",
    "        for row in reader:\n",
    "        \n",
    "            if len(row) > 0:\n",
    "                file_map[i] = dict()\n",
    "                file_map[i][\"name\"] = row[0]\n",
    "                \n",
    "                for j in range(1, 3):\n",
    "                    file_map[i][header[j]] = row[j]\n",
    "\n",
    "                i+=1"
   ]
  },
  {
   "cell_type": "code",
   "execution_count": 3,
   "id": "4018dd86-0aa6-4ee8-8840-7e562aefe45c",
   "metadata": {},
   "outputs": [],
   "source": [
    "data_map = dict()\n",
    "test_data_map = dict()\n",
    "index = 0\n",
    "index_test = 0"
   ]
  },
  {
   "cell_type": "code",
   "execution_count": 4,
   "id": "1c4194b1-977f-49ee-be60-9b894e1af7d5",
   "metadata": {},
   "outputs": [
    {
     "name": "stderr",
     "output_type": "stream",
     "text": [
      "100%|██████████████████████████████████████████████████████████████████████████████████| 326/326 [00:00<00:00, 1223.04it/s]"
     ]
    },
    {
     "name": "stdout",
     "output_type": "stream",
     "text": [
      "225\n"
     ]
    },
    {
     "name": "stderr",
     "output_type": "stream",
     "text": [
      "\n"
     ]
    }
   ],
   "source": [
    "# Getting images with laser inside them for training\n",
    "for i in tqdm(file_map):\n",
    "    #img = cv2.imread(file_map[i][\"name\"])\n",
    "\n",
    "    val = 20\n",
    "    count=0\n",
    "\n",
    "    for k in range(5,val):\n",
    "        for j in range(5,val):\n",
    "            laser_np = (int(file_map[i][\"laser.x\"]), int(file_map[i][\"laser.y\"]))\n",
    "\n",
    "            #temp = img[laser_np[1]-val+k:laser_np[1]+k,laser_np[0]-val+j:laser_np[0]+j]\n",
    "            # exit(1)\n",
    "            count+=1\n",
    "\n",
    "            # Add to data_map\n",
    "            # 0 is no laser, 1 is yes laser\n",
    "            data_map[index] = dict()\n",
    "            data_map[index][\"file_name\"] = file_map[i][\"name\"]\n",
    "            data_map[index][\"image\"] = (laser_np[1]-val+k, laser_np[0]-val+j)\n",
    "            data_map[index][\"label\"] = 1\n",
    "            index += 1\n",
    "\n",
    "            # cv2.namedWindow(\"burger\")\n",
    "            # cv2.imshow(\"burger\", temp)\n",
    "            # cv2.waitKey(0)\n",
    "            # cv2.destroyAllWindows()\n",
    "print(count)"
   ]
  },
  {
   "cell_type": "code",
   "execution_count": 5,
   "id": "9be966bb-e686-49c0-b853-abeea6270a88",
   "metadata": {},
   "outputs": [
    {
     "name": "stderr",
     "output_type": "stream",
     "text": [
      "100%|███████████████████████████████████████████████████████████████████████████████████| 326/326 [00:01<00:00, 233.24it/s]"
     ]
    },
    {
     "name": "stdout",
     "output_type": "stream",
     "text": [
      "1564\n"
     ]
    },
    {
     "name": "stderr",
     "output_type": "stream",
     "text": [
      "\n"
     ]
    }
   ],
   "source": [
    "# Getting images without any laser for training\n",
    "for i in tqdm(file_map):\n",
    "  #  img = cv2.imread(file_map[i][\"name\"])\n",
    "    val=20\n",
    "    laser_np = (int(file_map[i][\"laser.x\"]), int(file_map[i][\"laser.y\"]))\n",
    "    left = laser_np[0] - 20*2 + 5\n",
    "    right = laser_np[0] + 35\n",
    "    top = laser_np[1]-20*2+5\n",
    "    bottom = laser_np[1]+35\n",
    "\n",
    "    count = 0\n",
    "    \n",
    "    for k in range(50,3000-val-50,85):\n",
    "        for j in range(50,4000-val-50,85):\n",
    "\n",
    "            if j >= left and j < right and k >= top and k < bottom:\n",
    "                continue\n",
    "            # cv2.rectangle(img, (j,k), (j+val, k+val), color=(0,0,255), thickness=2)\n",
    "\n",
    "            data_map[index] = dict()\n",
    "            data_map[index][\"file_name\"] = file_map[i][\"name\"]\n",
    "            data_map[index][\"image\"] = (k, j)\n",
    "            data_map[index][\"label\"] = 0\n",
    "            index += 1\n",
    "            count+=1\n",
    "            # temp = img[k:k+val, j:j+val]\n",
    "print(count)"
   ]
  },
  {
   "cell_type": "code",
   "execution_count": 6,
   "id": "dc68c214-4b9d-4e02-98ab-e6bec657fbc8",
   "metadata": {},
   "outputs": [
    {
     "name": "stderr",
     "output_type": "stream",
     "text": [
      "100%|████████████████████████████████████████████████████████████████████████████████████| 24/24 [00:00<00:00, 1327.84it/s]\n"
     ]
    }
   ],
   "source": [
    "# Getting images with laser inside them for training\n",
    "for i in tqdm(test_map):\n",
    "    #img = cv2.imread(file_map[i][\"name\"])\n",
    "\n",
    "    val = 20\n",
    "    count=0\n",
    "\n",
    "    for k in range(5,val):\n",
    "        for j in range(5,val):\n",
    "            laser_np = (int(test_map[i][\"laser.x\"]), int(test_map[i][\"laser.y\"]))\n",
    "\n",
    "            #temp = img[laser_np[1]-val+k:laser_np[1]+k,laser_np[0]-val+j:laser_np[0]+j]\n",
    "            # exit(1)\n",
    "            count+=1\n",
    "\n",
    "            # Add to data_map\n",
    "            # 0 is no laser, 1 is yes laser\n",
    "            test_data_map[index] = dict()\n",
    "            test_data_map[index][\"file_name\"] = test_map[i][\"name\"]\n",
    "            test_data_map[index][\"image\"] = (laser_np[1]-val+k, laser_np[0]-val+j)\n",
    "            test_data_map[index][\"label\"] = 1\n",
    "            index_test += 1\n",
    "\n",
    "            # cv2.namedWindow(\"burger\")\n",
    "            # cv2.imshow(\"burger\", temp)\n",
    "            # cv2.waitKey(0)\n",
    "            # cv2.destroyAllWindows()"
   ]
  },
  {
   "cell_type": "code",
   "execution_count": 7,
   "id": "3b0b3b35-756d-47fd-880f-a6df8d0e27ff",
   "metadata": {},
   "outputs": [
    {
     "name": "stderr",
     "output_type": "stream",
     "text": [
      "100%|██████████████████████████████████████████████████████████████████████████████████████| 24/24 [00:00<00:00, 64.25it/s]\n"
     ]
    }
   ],
   "source": [
    "# Getting images without any laser for testing\n",
    "for i in tqdm(test_map):\n",
    "  #  img = cv2.imread(test_map[i][\"name\"])\n",
    "    val=20\n",
    "    laser_np = (int(test_map[i][\"laser.x\"]), int(test_map[i][\"laser.y\"]))\n",
    "    left = laser_np[0] - 20*2 + 5\n",
    "    right = laser_np[0] + 35\n",
    "    top = laser_np[1]-20*2+5\n",
    "    bottom = laser_np[1]+35\n",
    "    \n",
    "    for k in range(50,3000-val-50,50):\n",
    "        for j in range(50,4000-val-50,50):\n",
    "\n",
    "            if j >= left and j < right and k >= top and k < bottom:\n",
    "                continue\n",
    "            # cv2.rectangle(img, (j,k), (j+val, k+val), color=(0,0,255), thickness=2)\n",
    "\n",
    "            test_data_map[index_test] = dict()\n",
    "            test_data_map[index_test][\"file_name\"] = test_map[i][\"name\"]\n",
    "            test_data_map[index_test][\"image\"] = (k, j)\n",
    "            test_data_map[index_test][\"label\"] = 0\n",
    "            index_test += 1\n",
    "            # temp = img[k:k+val, j:j+val]"
   ]
  },
  {
   "cell_type": "code",
   "execution_count": 8,
   "id": "5d2c8edd-8172-4951-a30f-815ec59c6b07",
   "metadata": {},
   "outputs": [],
   "source": [
    "class LaserDetectionDataset(Dataset):\n",
    "    \"\"\"Laser Detection dataset.\"\"\"\n",
    "\n",
    "    def __init__(self, data_map):\n",
    "        \"\"\"\n",
    "        Arguments:\n",
    "            data_map (string): map to training data.\n",
    "        \"\"\"\n",
    "        self.data_map = data_map\n",
    "\n",
    "    def __len__(self):\n",
    "\n",
    "        return len(self.data_map)\n",
    "\n",
    "    def __getitem__(self, idx):\n",
    "        print(idx)\n",
    "        file_name = self.data_map[idx][\"file_name\"]\n",
    "        k,j = self.data_map[idx][\"image\"]\n",
    "        label = self.data_map[idx][\"label\"]\n",
    "\n",
    "        img = cv2.imread(file_name)\n",
    "        img_clone = img.copy()\n",
    "        print(img_clone.shape)\n",
    "        output_img = img_clone[k:k+20, j:j+20]\n",
    "        # cv2.namedWindow(\"burger\")\n",
    "        # cv2.imshow(\"burger\", output_img)\n",
    "        # cv2.waitKey(0)\n",
    "        # cv2.destroyAllWindows()\n",
    "        one_hot = [0,0]\n",
    "        one_hot[label] = 1\n",
    "        return output_img, np.array(one_hot)"
   ]
  },
  {
   "cell_type": "code",
   "execution_count": null,
   "id": "5d04738d-39eb-406b-b291-66fb480a39ab",
   "metadata": {},
   "outputs": [
    {
     "name": "stderr",
     "output_type": "stream",
     "text": [
      "0it [00:00, ?it/s]"
     ]
    },
    {
     "name": "stdout",
     "output_type": "stream",
     "text": [
      "0\n",
      "(3000, 4000, 3)\n",
      "(20, 20, 3)\n"
     ]
    },
    {
     "name": "stderr",
     "output_type": "stream",
     "text": [
      "1it [00:01,  1.78s/it]"
     ]
    },
    {
     "name": "stdout",
     "output_type": "stream",
     "text": [
      "1\n",
      "(3000, 4000, 3)\n",
      "(20, 20, 3)\n"
     ]
    },
    {
     "name": "stderr",
     "output_type": "stream",
     "text": [
      "2it [00:02,  1.18s/it]"
     ]
    },
    {
     "name": "stdout",
     "output_type": "stream",
     "text": [
      "2\n",
      "(3000, 4000, 3)\n",
      "(20, 20, 3)\n"
     ]
    }
   ],
   "source": [
    "laser_dataset = LaserDetectionDataset(data_map = data_map)\n",
    "laser_dataloader = DataLoader(laser_dataset, shuffle=False)\n",
    "\n",
    "for i, (img, label) in tqdm(enumerate(laser_dataloader)):\n",
    "\n",
    "    display = np.reshape(img.numpy().astype(np.uint8), (20,20,3))\n",
    "    print(display.shape)\n",
    "    cv2.namedWindow(\"burger\")\n",
    "    cv2.imshow(\"burger\", display)\n",
    "    cv2.waitKey(0)\n",
    "    cv2.destroyAllWindows()\n",
    "    \n",
    "    if i == 20:\n",
    "        cv2.destroyAllWindows()\n",
    "        break"
   ]
  },
  {
   "cell_type": "code",
   "execution_count": 2,
   "id": "f303d0c4-651f-4c45-8e8b-9322c2b6a8c2",
   "metadata": {},
   "outputs": [
    {
     "ename": "NameError",
     "evalue": "name 'data_map' is not defined",
     "output_type": "error",
     "traceback": [
      "\u001b[0;31m---------------------------------------------------------------------------\u001b[0m",
      "\u001b[0;31mNameError\u001b[0m                                 Traceback (most recent call last)",
      "Cell \u001b[0;32mIn[2], line 1\u001b[0m\n\u001b[0;32m----> 1\u001b[0m \u001b[38;5;28mprint\u001b[39m(\u001b[38;5;28mlen\u001b[39m(\u001b[43mdata_map\u001b[49m))\n",
      "\u001b[0;31mNameError\u001b[0m: name 'data_map' is not defined"
     ]
    }
   ],
   "source": [
    "print(len(data_map))"
   ]
  },
  {
   "cell_type": "code",
   "execution_count": null,
   "id": "d7b1b886-af38-4db8-a8c9-b24ee14c9636",
   "metadata": {},
   "outputs": [],
   "source": []
  }
 ],
 "metadata": {
  "kernelspec": {
   "display_name": "Python 3 (ipykernel)",
   "language": "python",
   "name": "python3"
  },
  "language_info": {
   "codemirror_mode": {
    "name": "ipython",
    "version": 3
   },
   "file_extension": ".py",
   "mimetype": "text/x-python",
   "name": "python",
   "nbconvert_exporter": "python",
   "pygments_lexer": "ipython3",
   "version": "3.8.10"
  }
 },
 "nbformat": 4,
 "nbformat_minor": 5
}
