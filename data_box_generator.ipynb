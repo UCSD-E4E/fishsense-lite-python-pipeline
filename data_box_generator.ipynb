{
 "cells": [
  {
   "cell_type": "code",
   "execution_count": 2,
   "id": "2c41230b-f27b-4799-91a3-0adcdd90bf51",
   "metadata": {},
   "outputs": [],
   "source": [
    "import torch \n",
    "import torchvision\n",
    "import torch.nn as nn\n",
    "import torch.nn.functional as F\n",
    "import torch.optim as optim\n",
    "from torch.utils.data import Dataset, DataLoader\n",
    "\n",
    "from pathlib import Path\n",
    "import csv\n",
    "import numpy as np\n",
    "import cv2\n",
    "from tqdm import tqdm\n",
    "\n",
    "from edge_detection import edgeDetection\n",
    "from interest_point_detection import display_interest_points_matrix\n",
    "from detect_laser import *\n",
    "from torchinfo import summary\n",
    "from torchmetrics.classification import BinaryAccuracy\n",
    "\n",
    "import matplotlib.pyplot as plt"
   ]
  },
  {
   "cell_type": "code",
   "execution_count": 3,
   "id": "deab060d-1b6a-441e-a2bc-46928135cacb",
   "metadata": {},
   "outputs": [],
   "source": [
    "# Prepare data \n",
    "\n",
    "data_path = Path(\"./data\")\n",
    "csv_list = list(data_path.glob(\"*.csv\"))\n",
    "file_map = dict()\n",
    "test_map = dict()\n",
    "i = 0\n",
    "l = 0\n",
    "for csv_file in csv_list:   \n",
    "    with open(csv_file, newline='') as csvfile:\n",
    "\n",
    "        reader = csv.reader(csvfile, delimiter=',')\n",
    "\n",
    "        header = next(reader)\n",
    "\n",
    "        # First 2 of every file will be for testing\n",
    "        for k in range(2):\n",
    "            row = next(reader)\n",
    "            if len(row) > 0:\n",
    "                test_map[l] = dict()\n",
    "                test_map[l][\"name\"] = row[0]\n",
    "                \n",
    "                for j in range(1, 3):\n",
    "                    test_map[l][header[j]] = row[j]\n",
    "\n",
    "                l+=1\n",
    "        \n",
    "        for row in reader:\n",
    "        \n",
    "            if len(row) > 0:\n",
    "                file_map[i] = dict()\n",
    "                file_map[i][\"name\"] = row[0]\n",
    "                \n",
    "                for j in range(1, 3):\n",
    "                    file_map[i][header[j]] = row[j]\n",
    "\n",
    "                i+=1"
   ]
  },
  {
   "cell_type": "code",
   "execution_count": 4,
   "id": "4018dd86-0aa6-4ee8-8840-7e562aefe45c",
   "metadata": {},
   "outputs": [],
   "source": [
    "data_map = dict()\n",
    "test_data_map = dict()\n",
    "index = 0\n",
    "index_test = 0"
   ]
  },
  {
   "cell_type": "code",
   "execution_count": 5,
   "id": "1c4194b1-977f-49ee-be60-9b894e1af7d5",
   "metadata": {},
   "outputs": [
    {
     "name": "stderr",
     "output_type": "stream",
     "text": [
      "100%|███████████████████████████████████████████████████████████████████████████████████| 326/326 [00:00<00:00, 1431.95it/s]"
     ]
    },
    {
     "name": "stdout",
     "output_type": "stream",
     "text": [
      "225\n"
     ]
    },
    {
     "name": "stderr",
     "output_type": "stream",
     "text": [
      "\n"
     ]
    }
   ],
   "source": [
    "# Getting images with laser inside them for training\n",
    "for i in tqdm(file_map):\n",
    "    #img = cv2.imread(file_map[i][\"name\"])\n",
    "\n",
    "    val = 20\n",
    "    count=0\n",
    "\n",
    "    for k in range(5,val):\n",
    "        for j in range(5,val):\n",
    "            laser_np = (int(file_map[i][\"laser.x\"]), int(file_map[i][\"laser.y\"]))\n",
    "\n",
    "            #temp = img[laser_np[1]-val+k:laser_np[1]+k,laser_np[0]-val+j:laser_np[0]+j]\n",
    "            # exit(1)\n",
    "            count+=1\n",
    "\n",
    "            # Add to data_map\n",
    "            # 0 is no laser, 1 is yes laser\n",
    "            data_map[index] = dict()\n",
    "            data_map[index][\"file_name\"] = file_map[i][\"name\"]\n",
    "            data_map[index][\"image\"] = (laser_np[1]-val+k, laser_np[0]-val+j)\n",
    "            data_map[index][\"label\"] = 1\n",
    "            index += 1\n",
    "\n",
    "            # cv2.namedWindow(\"burger\")\n",
    "            # cv2.imshow(\"burger\", temp)\n",
    "            # cv2.waitKey(0)\n",
    "            # cv2.destroyAllWindows()\n",
    "print(count)"
   ]
  },
  {
   "cell_type": "code",
   "execution_count": 6,
   "id": "9be966bb-e686-49c0-b853-abeea6270a88",
   "metadata": {},
   "outputs": [
    {
     "name": "stderr",
     "output_type": "stream",
     "text": [
      "100%|█████████████████████████████████████████████████████████████████████████████████████| 326/326 [00:03<00:00, 88.87it/s]"
     ]
    },
    {
     "name": "stdout",
     "output_type": "stream",
     "text": [
      "1564\n"
     ]
    },
    {
     "name": "stderr",
     "output_type": "stream",
     "text": [
      "\n"
     ]
    }
   ],
   "source": [
    "# Getting images without any laser for training\n",
    "for i in tqdm(file_map):\n",
    "  #  img = cv2.imread(file_map[i][\"name\"])\n",
    "    val=20\n",
    "    laser_np = (int(file_map[i][\"laser.x\"]), int(file_map[i][\"laser.y\"]))\n",
    "    left = laser_np[0] - 20*2 + 5\n",
    "    right = laser_np[0] + 35\n",
    "    top = laser_np[1]-20*2+5\n",
    "    bottom = laser_np[1]+35\n",
    "\n",
    "    count = 0\n",
    "    \n",
    "    for k in range(50,3000-val-50,85):\n",
    "        for j in range(50,4000-val-50,85):\n",
    "\n",
    "            if j >= left and j < right and k >= top and k < bottom:\n",
    "                continue\n",
    "            # cv2.rectangle(img, (j,k), (j+val, k+val), color=(0,0,255), thickness=2)\n",
    "\n",
    "            data_map[index] = dict()\n",
    "            data_map[index][\"file_name\"] = file_map[i][\"name\"]\n",
    "            data_map[index][\"image\"] = (k, j)\n",
    "            data_map[index][\"label\"] = 0\n",
    "            index += 1\n",
    "            count+=1\n",
    "            # temp = img[k:k+val, j:j+val]\n",
    "print(count)"
   ]
  },
  {
   "cell_type": "code",
   "execution_count": 7,
   "id": "dc68c214-4b9d-4e02-98ab-e6bec657fbc8",
   "metadata": {},
   "outputs": [
    {
     "name": "stderr",
     "output_type": "stream",
     "text": [
      "100%|█████████████████████████████████████████████████████████████████████████████████████| 24/24 [00:00<00:00, 1604.89it/s]"
     ]
    },
    {
     "name": "stdout",
     "output_type": "stream",
     "text": [
      "225\n"
     ]
    },
    {
     "name": "stderr",
     "output_type": "stream",
     "text": [
      "\n"
     ]
    }
   ],
   "source": [
    "# Getting images with laser inside them for training\n",
    "for i in tqdm(test_map):\n",
    "    #img = cv2.imread(file_map[i][\"name\"])\n",
    "\n",
    "    val = 20\n",
    "    count=0\n",
    "\n",
    "    for k in range(5,val):\n",
    "        for j in range(5,val):\n",
    "            laser_np = (int(test_map[i][\"laser.x\"]), int(test_map[i][\"laser.y\"]))\n",
    "\n",
    "            #temp = img[laser_np[1]-val+k:laser_np[1]+k,laser_np[0]-val+j:laser_np[0]+j]\n",
    "            # exit(1)\n",
    "            count+=1\n",
    "\n",
    "            # Add to data_map\n",
    "            # 0 is no laser, 1 is yes laser\n",
    "            test_data_map[index] = dict()\n",
    "            test_data_map[index][\"file_name\"] = test_map[i][\"name\"]\n",
    "            test_data_map[index][\"image\"] = (laser_np[1]-val+k, laser_np[0]-val+j)\n",
    "            test_data_map[index][\"label\"] = 1\n",
    "            index_test += 1\n",
    "\n",
    "            # cv2.namedWindow(\"burger\")\n",
    "            # cv2.imshow(\"burger\", temp)\n",
    "            # cv2.waitKey(0)\n",
    "            # cv2.destroyAllWindows()\n",
    "print(count)"
   ]
  },
  {
   "cell_type": "code",
   "execution_count": 8,
   "id": "3b0b3b35-756d-47fd-880f-a6df8d0e27ff",
   "metadata": {},
   "outputs": [
    {
     "name": "stderr",
     "output_type": "stream",
     "text": [
      "100%|███████████████████████████████████████████████████████████████████████████████████████| 24/24 [00:00<00:00, 74.60it/s]\n"
     ]
    }
   ],
   "source": [
    "# Getting images without any laser for testing\n",
    "for i in tqdm(test_map):\n",
    "  #  img = cv2.imread(test_map[i][\"name\"])\n",
    "    val=20\n",
    "    laser_np = (int(test_map[i][\"laser.x\"]), int(test_map[i][\"laser.y\"]))\n",
    "    left = laser_np[0] - 20*2 + 5\n",
    "    right = laser_np[0] + 35\n",
    "    top = laser_np[1]-20*2+5\n",
    "    bottom = laser_np[1]+35\n",
    "    \n",
    "    for k in range(50,3000-val-50,50):\n",
    "        for j in range(50,4000-val-50,50):\n",
    "\n",
    "            if j >= left and j < right and k >= top and k < bottom:\n",
    "                continue\n",
    "            # cv2.rectangle(img, (j,k), (j+val, k+val), color=(0,0,255), thickness=2)\n",
    "\n",
    "            test_data_map[index_test] = dict()\n",
    "            test_data_map[index_test][\"file_name\"] = test_map[i][\"name\"]\n",
    "            test_data_map[index_test][\"image\"] = (k, j)\n",
    "            test_data_map[index_test][\"label\"] = 0\n",
    "            index_test += 1\n",
    "            # temp = img[k:k+val, j:j+val]"
   ]
  },
  {
   "cell_type": "code",
   "execution_count": 9,
   "id": "2d2f8229-32ec-4aba-aabc-728807a87e84",
   "metadata": {},
   "outputs": [],
   "source": [
    "data = np.empty((len(data_map), 1200))\n",
    "test = np.empty((len(test_data_map), 1200))"
   ]
  },
  {
   "cell_type": "code",
   "execution_count": 13,
   "id": "09a9d0d8-4dd1-44e5-856b-6d9f1550ac68",
   "metadata": {},
   "outputs": [
    {
     "name": "stderr",
     "output_type": "stream",
     "text": [
      "  0%|                                                                               | 28/583010 [00:20<119:16:13,  1.36it/s]\n"
     ]
    },
    {
     "ename": "KeyboardInterrupt",
     "evalue": "",
     "output_type": "error",
     "traceback": [
      "\u001b[0;31m---------------------------------------------------------------------------\u001b[0m",
      "\u001b[0;31mKeyboardInterrupt\u001b[0m                         Traceback (most recent call last)",
      "Cell \u001b[0;32mIn[13], line 7\u001b[0m\n\u001b[1;32m      4\u001b[0m label \u001b[38;5;241m=\u001b[39m data_map[idx][\u001b[38;5;124m\"\u001b[39m\u001b[38;5;124mlabel\u001b[39m\u001b[38;5;124m\"\u001b[39m]\n\u001b[1;32m      6\u001b[0m img \u001b[38;5;241m=\u001b[39m cv2\u001b[38;5;241m.\u001b[39mimread(file_name)\n\u001b[0;32m----> 7\u001b[0m img_clone \u001b[38;5;241m=\u001b[39m \u001b[43mimg\u001b[49m\u001b[38;5;241;43m.\u001b[39;49m\u001b[43mcopy\u001b[49m\u001b[43m(\u001b[49m\u001b[43m)\u001b[49m\n\u001b[1;32m      8\u001b[0m cropped_img \u001b[38;5;241m=\u001b[39m img_clone[k:k\u001b[38;5;241m+\u001b[39m\u001b[38;5;241m20\u001b[39m, j:j\u001b[38;5;241m+\u001b[39m\u001b[38;5;241m20\u001b[39m]\n\u001b[1;32m      9\u001b[0m output_img \u001b[38;5;241m=\u001b[39m np\u001b[38;5;241m.\u001b[39mreshape(cropped_img, (\u001b[38;5;241m3\u001b[39m, \u001b[38;5;241m20\u001b[39m, \u001b[38;5;241m20\u001b[39m))\n",
      "\u001b[0;31mKeyboardInterrupt\u001b[0m: "
     ]
    }
   ],
   "source": [
    "for idx in tqdm(data_map):\n",
    "    file_name = data_map[idx][\"file_name\"]\n",
    "    k,j = data_map[idx][\"image\"]\n",
    "    label = data_map[idx][\"label\"]\n",
    "    \n",
    "    img = cv2.imread(file_name)\n",
    "    img_clone = img.copy()\n",
    "    cropped_img = img_clone[k:k+20, j:j+20]\n",
    "    output_img = np.reshape(cropped_img, (3, 20, 20))\n",
    "\n",
    "    data[idx,:] = output_img.flatten()"
   ]
  },
  {
   "cell_type": "code",
   "execution_count": 1,
   "id": "5d2c8edd-8172-4951-a30f-815ec59c6b07",
   "metadata": {},
   "outputs": [
    {
     "ename": "NameError",
     "evalue": "name 'Dataset' is not defined",
     "output_type": "error",
     "traceback": [
      "\u001b[0;31m---------------------------------------------------------------------------\u001b[0m",
      "\u001b[0;31mNameError\u001b[0m                                 Traceback (most recent call last)",
      "Cell \u001b[0;32mIn[1], line 1\u001b[0m\n\u001b[0;32m----> 1\u001b[0m \u001b[38;5;28;01mclass\u001b[39;00m \u001b[38;5;21;01mLaserDetectionDataset\u001b[39;00m(\u001b[43mDataset\u001b[49m):\n\u001b[1;32m      2\u001b[0m \u001b[38;5;250m    \u001b[39m\u001b[38;5;124;03m\"\"\"Laser Detection dataset.\"\"\"\u001b[39;00m\n\u001b[1;32m      4\u001b[0m     \u001b[38;5;28;01mdef\u001b[39;00m \u001b[38;5;21m__init__\u001b[39m(\u001b[38;5;28mself\u001b[39m, data_map):\n",
      "\u001b[0;31mNameError\u001b[0m: name 'Dataset' is not defined"
     ]
    }
   ],
   "source": [
    "class LaserDetectionDataset(Dataset):\n",
    "    \"\"\"Laser Detection dataset.\"\"\"\n",
    "\n",
    "    def __init__(self, data_map, data):\n",
    "        \"\"\"\n",
    "        Arguments:\n",
    "            data_map: map to training data.\n",
    "            data: training data\n",
    "        \"\"\"\n",
    "        self.data_map = data_map\n",
    "        self.data = data\n",
    "\n",
    "    def __len__(self):\n",
    "\n",
    "        return len(self.data_map)\n",
    "\n",
    "    def __getitem__(self, idx):\n",
    "   \n",
    "        # file_name = self.data_map[idx][\"file_name\"]\n",
    "        # k,j = self.data_map[idx][\"image\"]\n",
    "        label = self.data_map[idx][\"label\"]\n",
    "\n",
    "        # print(\"Beginning to read image\")\n",
    "        # img = cv2.imread(file_name)\n",
    "        # print(\"Finishing reading image\")\n",
    "        # img_clone = img.copy()\n",
    "        # cropped_img = img_clone[k:k+20, j:j+20]\n",
    "        # output_img = np.reshape(cropped_img, (3, 20, 20))\n",
    "        # cv2.namedWindow(\"burger\")\n",
    "        # cv2.imshow(\"burger\", output_img)\n",
    "        # cv2.waitKey(0)\n",
    "        # cv2.destroyAllWindows()\n",
    "        output_img = np.reshape(self.data[idx,:], (3, 20, 20))\n",
    "\n",
    "        return output_img.astype(np.float32), np.array([label]).astype(np.float32)"
   ]
  },
  {
   "cell_type": "code",
   "execution_count": 9,
   "id": "cb080152-ffbd-4e35-96a6-3be270f313da",
   "metadata": {},
   "outputs": [],
   "source": [
    "class Net(nn.Module):\n",
    "    def __init__(self):\n",
    "        super(Net, self).__init__()\n",
    "        self.conv1 = nn.Conv2d(3, 32, kernel_size=(3,3), stride=1, padding=1)\n",
    "        self.act1 = nn.ReLU()\n",
    "        self.drop1 = nn.Dropout(0.3)\n",
    "        self.pool1 = nn.AvgPool2d(kernel_size=(2, 2))\n",
    "        \n",
    "        self.flatten = nn.Flatten()\n",
    "        self.linear1 = nn.Linear(3200, 10)\n",
    "        self.act2 = nn.ReLU()\n",
    "\n",
    "        self.linear2 = nn.Linear(10, 1)\n",
    "        \n",
    "    def forward(self, x):\n",
    "        x = self.act1(self.conv1(x))\n",
    "        x = self.pool1(x)\n",
    "        x = self.drop1(x)\n",
    "        \n",
    "        x = self.flatten(x)\n",
    "        x = self.act2(self.linear1(x))\n",
    "\n",
    "        x = self.linear2(x)\n",
    "        \n",
    "        return x"
   ]
  },
  {
   "cell_type": "code",
   "execution_count": 19,
   "id": "29b2d126-eea0-4457-b30a-0f64ab292082",
   "metadata": {},
   "outputs": [
    {
     "data": {
      "text/plain": [
       "==========================================================================================\n",
       "Layer (type:depth-idx)                   Output Shape              Param #\n",
       "==========================================================================================\n",
       "Net                                      [500, 1]                  --\n",
       "├─Conv2d: 1-1                            [500, 32, 20, 20]         896\n",
       "├─ReLU: 1-2                              [500, 32, 20, 20]         --\n",
       "├─AvgPool2d: 1-3                         [500, 32, 10, 10]         --\n",
       "├─Dropout: 1-4                           [500, 32, 10, 10]         --\n",
       "├─Flatten: 1-5                           [500, 3200]               --\n",
       "├─Linear: 1-6                            [500, 10]                 32,010\n",
       "├─ReLU: 1-7                              [500, 10]                 --\n",
       "├─Linear: 1-8                            [500, 1]                  11\n",
       "==========================================================================================\n",
       "Total params: 32,917\n",
       "Trainable params: 32,917\n",
       "Non-trainable params: 0\n",
       "Total mult-adds (M): 195.21\n",
       "==========================================================================================\n",
       "Input size (MB): 2.40\n",
       "Forward/backward pass size (MB): 51.24\n",
       "Params size (MB): 0.13\n",
       "Estimated Total Size (MB): 53.78\n",
       "=========================================================================================="
      ]
     },
     "execution_count": 19,
     "metadata": {},
     "output_type": "execute_result"
    }
   ],
   "source": [
    "model = Net()\n",
    "batch_size = 1\n",
    "summary(model, input_size=(500, 3, 20, 20), device=\"cuda\")"
   ]
  },
  {
   "cell_type": "code",
   "execution_count": 30,
   "id": "73458ad8-3da9-408e-8554-e5c6092f9b70",
   "metadata": {},
   "outputs": [],
   "source": [
    "loss_fn = nn.BCEWithLogitsLoss()\n",
    "optimizer = optim.Adam(model.parameters(), lr=0.00001)\n",
    "\n",
    "laser_dataset = LaserDetectionDataset(data_map = data_map, data=data)\n",
    "laser_dataloader = DataLoader(laser_dataset, batch_size=500, shuffle=True)\n",
    "\n",
    "test_dataset = LaserDetectionDataset(data_map = test_data_map, data=test)\n",
    "test_dataloader = DataLoader(test_dataset, batch_size=500, shuffle=True)\n",
    "\n",
    "metric = BinaryAccuracy().to('cuda')\n",
    "test_metric = BinaryAccuracy().to('cuda')\n",
    "\n",
    "# load_path = Path(\"model29.pth\")\n",
    "# model.load_state_dict(torch.load(load_path.as_posix()))"
   ]
  },
  {
   "cell_type": "code",
   "execution_count": 31,
   "id": "bf71985f-21c6-43af-97bf-3948f6de6a29",
   "metadata": {},
   "outputs": [
    {
     "name": "stderr",
     "output_type": "stream",
     "text": [
      "  0%|                                                                                                              | 0/1167 [00:00<?, ?it/s]"
     ]
    },
    {
     "name": "stdout",
     "output_type": "stream",
     "text": [
      "Beginning to read image\n",
      "Finishing reading image\n",
      "Beginning to read image\n",
      "Finishing reading image\n",
      "Beginning to read image\n",
      "Finishing reading image\n",
      "Beginning to read image\n",
      "Finishing reading image\n",
      "Beginning to read image\n",
      "Finishing reading image\n",
      "Beginning to read image\n",
      "Finishing reading image\n",
      "Beginning to read image\n",
      "Finishing reading image\n",
      "Beginning to read image\n",
      "Finishing reading image\n",
      "Beginning to read image\n"
     ]
    },
    {
     "name": "stderr",
     "output_type": "stream",
     "text": [
      "  0%|                                                                                                              | 0/1167 [00:15<?, ?it/s]\n",
      "\n",
      "KeyboardInterrupt\n",
      "\n"
     ]
    }
   ],
   "source": [
    "n_epochs = 1\n",
    "\n",
    "for epoch in range(0, n_epochs):\n",
    "\n",
    "    count = 1\n",
    "    acc = 0\n",
    "\n",
    "    for inputs, labels in tqdm(laser_dataloader):\n",
    "\n",
    "        inputs = inputs.to('cuda')\n",
    "        labels = labels.to('cuda')\n",
    "        \n",
    "        y_pred = model(inputs)\n",
    "\n",
    "        metric.update(y_pred, labels)\n",
    "\n",
    "        \n",
    "        acc += metric.item()\n",
    "        count += 1\n",
    "        \n",
    "        loss = loss_fn(y_pred, labels)\n",
    "        optimizer.zero_grad()\n",
    "        loss.backward()\n",
    "        optimizer.step()\n",
    "\n",
    "    test_acc = 0\n",
    "    test_count = 1\n",
    "    \n",
    "    for test_inputs, test_labels in tqdm(test_dataloader):\n",
    "        \n",
    "        test_inputs = test_inputs.to('cuda')\n",
    "        test_labels = test_labels.to('cuda')\n",
    "        test_pred = model(test_inputs)\n",
    "        \n",
    "        metric.update(y_pred, labels)\n",
    "        \n",
    "        test_acc += metric.item()\n",
    "        test_count += 1\n",
    "        \n",
    "    # print(f\"Epoch {epoch}: training accuracy: {metric.compute()}\")\n",
    "    # print(f\"Epoch {epoch}: test accuracy: {test_metric.compute()}\")\n",
    "\n",
    "    if ((epoch+1) % 5 == 0):\n",
    "        torch.save(model.state_dict(), f\"model_binary{epoch}.pth\")"
   ]
  },
  {
   "cell_type": "code",
   "execution_count": 9,
   "id": "5d04738d-39eb-406b-b291-66fb480a39ab",
   "metadata": {},
   "outputs": [],
   "source": [
    "# laser_dataset = LaserDetectionDataset(data_map = data_map)\n",
    "# laser_dataloader = DataLoader(laser_dataset, shuffle=False)\n",
    "\n",
    "# for i, (img, label) in tqdm(enumerate(laser_dataloader)):\n",
    "\n",
    "#     display = np.reshape(img.numpy().astype(np.uint8), (20,20,3))\n",
    "#     print(display.shape)\n",
    "#     cv2.namedWindow(\"burger\")\n",
    "#     cv2.imshow(\"burger\", display)\n",
    "#     cv2.waitKey(0)\n",
    "#     cv2.destroyAllWindows()\n",
    "    \n",
    "#     if i == 20:\n",
    "#         cv2.destroyAllWindows()\n",
    "#         break"
   ]
  },
  {
   "cell_type": "code",
   "execution_count": 8,
   "id": "c654f0fe-0ed1-4fd1-903c-c80e07a451a6",
   "metadata": {},
   "outputs": [
    {
     "name": "stdout",
     "output_type": "stream",
     "text": [
      "583010\n"
     ]
    }
   ],
   "source": [
    "print(len(data_map))"
   ]
  },
  {
   "cell_type": "code",
   "execution_count": null,
   "id": "421e684d-02aa-4778-96e6-3ad10aeb1957",
   "metadata": {},
   "outputs": [],
   "source": []
  }
 ],
 "metadata": {
  "kernelspec": {
   "display_name": "Python 3 (ipykernel)",
   "language": "python",
   "name": "python3"
  },
  "language_info": {
   "codemirror_mode": {
    "name": "ipython",
    "version": 3
   },
   "file_extension": ".py",
   "mimetype": "text/x-python",
   "name": "python",
   "nbconvert_exporter": "python",
   "pygments_lexer": "ipython3",
   "version": "3.8.10"
  }
 },
 "nbformat": 4,
 "nbformat_minor": 5
}
