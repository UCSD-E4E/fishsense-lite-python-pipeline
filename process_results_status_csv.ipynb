{
 "cells": [
  {
   "cell_type": "code",
   "execution_count": 35,
   "metadata": {},
   "outputs": [],
   "source": [
    "import numpy as np\n",
    "import pandas as pd\n",
    "from typing import List"
   ]
  },
  {
   "cell_type": "code",
   "execution_count": 14,
   "metadata": {},
   "outputs": [],
   "source": [
    "results_df = pd.read_csv(\"./results - Sheet1.csv\")\n",
    "status_df = pd.read_csv(\"./status - Sheet1.csv\")"
   ]
  },
  {
   "cell_type": "code",
   "execution_count": 41,
   "metadata": {},
   "outputs": [],
   "source": [
    "def logical_and(*arrays: List[np.ndarray]):\n",
    "    result = np.ones_like(arrays[0])\n",
    "\n",
    "    for array in arrays:\n",
    "        result = np.logical_and(result, array)\n",
    "\n",
    "    return result\n",
    "\n",
    "def logical_or(*arrays: List[np.ndarray]):\n",
    "    result = np.zeros_like(arrays[0])\n",
    "\n",
    "    for array in arrays:\n",
    "        result = np.logical_or(result, array)\n",
    "\n",
    "    return result"
   ]
  },
  {
   "cell_type": "code",
   "execution_count": 15,
   "metadata": {},
   "outputs": [],
   "source": [
    "final_df = results_df[results_df[\"input_file\"].isin(status_df[status_df[\"can use?\"] == 1][\"input_file\"])]\n",
    "for i in range(len(final_df)):\n",
    "    final_df.loc[final_df[\"input_file\"] == final_df.iloc[i][\"input_file\"], \"input_file\"] = final_df.iloc[i][\"input_file\"].replace(\"/home/chris/8-03-23 FSL-01D Florida/\", \"\")\n",
    "\n",
    "final_df.to_csv(\"final_results.csv\")"
   ]
  },
  {
   "cell_type": "code",
   "execution_count": 49,
   "metadata": {},
   "outputs": [
    {
     "data": {
      "text/plain": [
       "(12, 43, 37, 18)"
      ]
     },
     "execution_count": 49,
     "metadata": {},
     "output_type": "execute_result"
    }
   ],
   "source": [
    "overall_true_positive = logical_and(status_df[\"status accurate?\"] == \"success\", status_df[\"status\"] == \"success\", status_df[\"laser accurate?\"] == 1, status_df[\"head accurate?\"] == 1, status_df[\"tail accurate?\"] == 1)\n",
    "overall_true_negative = np.logical_and(status_df[\"status accurate?\"] != \"success\", status_df[\"status\"] != \"success\")\n",
    "overall_false_positive = np.logical_or(\n",
    "    np.logical_and(status_df[\"status accurate?\"] != \"success\", status_df[\"status\"] == \"success\"),\n",
    "    logical_and(status_df[\"status accurate?\"] == \"success\", status_df[\"status\"] == \"success\", logical_or(status_df[\"laser accurate?\"] == 0, status_df[\"head accurate?\"] == 0, status_df[\"tail accurate?\"] == 0)))\n",
    "overall_false_negative = np.logical_and(status_df[\"status accurate?\"] == \"success\", status_df[\"status\"] != \"success\")\n",
    "\n",
    "overall_true_positive_count = np.sum(overall_true_positive)\n",
    "overall_true_negative_count = np.sum(overall_true_negative)\n",
    "overall_false_positive_count = np.sum(overall_false_positive)\n",
    "overall_false_negative_count = np.sum(overall_false_negative)\n",
    "\n",
    "overall_true_positive_count, overall_true_negative_count, overall_false_positive_count, overall_false_negative_count"
   ]
  },
  {
   "cell_type": "code",
   "execution_count": 52,
   "metadata": {},
   "outputs": [
    {
     "data": {
      "text/plain": [
       "(78, 16, 9, 7)"
      ]
     },
     "execution_count": 52,
     "metadata": {},
     "output_type": "execute_result"
    }
   ],
   "source": [
    "laser_true_positive = logical_and(status_df[\"status\"] != \"laser_reject\", status_df[\"status accurate?\"] != \"laser_reject\", status_df[\"laser accurate?\"] == 1)\n",
    "laser_true_negative = np.logical_and(status_df[\"status\"] == \"laser_reject\", status_df[\"status accurate?\"] == \"laser_reject\")\n",
    "laser_false_positive = np.logical_and(status_df[\"status\"] != \"laser_reject\", np.logical_or(status_df[\"status accurate?\"] == \"laser_reject\", status_df[\"laser accurate?\"] == 0))\n",
    "laser_false_negative = np.logical_and(status_df[\"status\"] == \"laser_reject\", status_df[\"status accurate?\"] != \"laser_reject\")\n",
    "\n",
    "laser_true_positive_count = np.sum(laser_true_positive)\n",
    "laser_true_negative_count = np.sum(laser_true_negative)\n",
    "laser_false_positive_count = np.sum(laser_false_positive)\n",
    "laser_false_negative_count = np.sum(laser_false_negative)\n",
    "\n",
    "laser_true_positive_count, laser_true_negative_count, laser_false_positive_count, laser_false_negative_count"
   ]
  },
  {
   "cell_type": "code",
   "execution_count": 59,
   "metadata": {},
   "outputs": [
    {
     "data": {
      "text/plain": [
       "(15, 43, 34, 18)"
      ]
     },
     "execution_count": 59,
     "metadata": {},
     "output_type": "execute_result"
    }
   ],
   "source": [
    "head_true_positive = logical_and(status_df[\"status\"] == \"success\", status_df[\"status accurate?\"] == \"success\", status_df[\"head accurate?\"] == 1)\n",
    "head_true_negative = logical_and(status_df[\"status\"] != \"success\", status_df[\"status accurate?\"] != \"success\")\n",
    "head_false_positive = np.logical_or(\n",
    "    np.logical_and(status_df[\"status accurate?\"] != \"success\", status_df[\"status\"] == \"success\"),\n",
    "    logical_and(status_df[\"status accurate?\"] == \"success\", status_df[\"status\"] == \"success\", status_df[\"head accurate?\"] == 0))\n",
    "head_false_negative = logical_and(status_df[\"status\"] != \"success\", status_df[\"status accurate?\"] == \"success\")\n",
    "\n",
    "head_true_positive_count = np.sum(head_true_positive)\n",
    "head_true_negative_count = np.sum(head_true_negative)\n",
    "head_false_positive_count = np.sum(head_false_positive)\n",
    "head_false_negative_count = np.sum(head_false_negative)\n",
    "\n",
    "head_true_positive_count, head_true_negative_count, head_false_positive_count, head_false_negative_count"
   ]
  },
  {
   "cell_type": "code",
   "execution_count": 60,
   "metadata": {},
   "outputs": [
    {
     "data": {
      "text/plain": [
       "(37, 43, 12, 18)"
      ]
     },
     "execution_count": 60,
     "metadata": {},
     "output_type": "execute_result"
    }
   ],
   "source": [
    "tail_true_positive = logical_and(status_df[\"status\"] == \"success\", status_df[\"status accurate?\"] == \"success\", status_df[\"tail accurate?\"] == 1)\n",
    "tail_true_negative = logical_and(status_df[\"status\"] != \"success\", status_df[\"status accurate?\"] != \"success\")\n",
    "tail_false_positive = np.logical_or(\n",
    "    np.logical_and(status_df[\"status accurate?\"] != \"success\", status_df[\"status\"] == \"success\"),\n",
    "    logical_and(status_df[\"status accurate?\"] == \"success\", status_df[\"status\"] == \"success\", status_df[\"tail accurate?\"] == 0))\n",
    "tail_false_negative = logical_and(status_df[\"status\"] != \"success\", status_df[\"status accurate?\"] == \"success\")\n",
    "\n",
    "tail_true_positive_count = np.sum(tail_true_positive)\n",
    "tail_true_negative_count = np.sum(tail_true_negative)\n",
    "tail_false_positive_count = np.sum(tail_false_positive)\n",
    "tail_false_negative_count = np.sum(tail_false_negative)\n",
    "\n",
    "tail_true_positive_count, tail_true_negative_count, tail_false_positive_count, tail_false_negative_count"
   ]
  }
 ],
 "metadata": {
  "kernelspec": {
   "display_name": "fishsense-lite-python-pipeline-wzEPHF03-py3.11",
   "language": "python",
   "name": "python3"
  },
  "language_info": {
   "codemirror_mode": {
    "name": "ipython",
    "version": 3
   },
   "file_extension": ".py",
   "mimetype": "text/x-python",
   "name": "python",
   "nbconvert_exporter": "python",
   "pygments_lexer": "ipython3",
   "version": "3.11.6"
  }
 },
 "nbformat": 4,
 "nbformat_minor": 2
}
